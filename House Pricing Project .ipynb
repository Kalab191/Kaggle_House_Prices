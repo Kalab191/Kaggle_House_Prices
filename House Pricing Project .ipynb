{
 "cells": [
  {
   "cell_type": "code",
   "execution_count": 3,
   "id": "b94c3c7f",
   "metadata": {},
   "outputs": [],
   "source": [
    "# This is where i import the important libraries and csv file i need \n",
    "\n",
    "import numpy as np\n",
    "import pandas as pd\n",
    "import seaborn as sns\n",
    "import matplotlib.pyplot as plt\n",
    "%matplotlib inline\n",
    "\n",
    "train_df = pd.read_csv('train.csv') # imports the training data\n",
    "test_df = pd.read_csv('test.csv')   # imports the test data"
   ]
  },
  {
   "cell_type": "code",
   "execution_count": 4,
   "id": "83aef233",
   "metadata": {},
   "outputs": [
    {
     "name": "stdout",
     "output_type": "stream",
     "text": [
      "(1460, 81)\n",
      "(1459, 80)\n"
     ]
    }
   ],
   "source": [
    "print(train_df.shape)  # prints the shape of the training data\n",
    "print(test_df.shape)   # prints the shape of the test data"
   ]
  },
  {
   "cell_type": "code",
   "execution_count": null,
   "id": "10d00bbb",
   "metadata": {},
   "outputs": [],
   "source": [
    "train_df.info()   # outputs information about the training data "
   ]
  },
  {
   "cell_type": "code",
   "execution_count": null,
   "id": "548eba96",
   "metadata": {},
   "outputs": [],
   "source": [
    "train_df.head()   # outputs the first five rows of the"
   ]
  },
  {
   "cell_type": "code",
   "execution_count": 5,
   "id": "ac3a9d43",
   "metadata": {},
   "outputs": [],
   "source": [
    "# This function drops or fill in the missing values\n",
    "\n",
    "def drop_null(df):  \n",
    "    df.drop(['PoolQC'],inplace=True,axis=1)\n",
    "    df.drop(['Alley'],inplace= True,axis=1)\n",
    "    df.drop(['MiscFeature'],inplace=True,axis=1)\n",
    "    df.drop(['Id'],axis=1,inplace=True)\n",
    "    df.drop(['Fence','FireplaceQu'],inplace=True,axis=1)\n",
    "    df['MasVnrType'] = df['MasVnrType'].fillna(df['MasVnrType'].mode()[0])\n",
    "    df['BsmtCond'] = df['BsmtCond'].fillna(df['BsmtCond'].mode()[0])\n",
    "    df['GarageQual'] = df['GarageQual'].fillna(df['GarageQual'].mode()[0])\n",
    "    df['GarageYrBlt'] = df['GarageYrBlt'].fillna(df['GarageYrBlt'].mean())\n",
    "    df['GarageCond'] = df['GarageCond'].fillna(df['GarageCond'].mode()[0])\n",
    "    df['GarageFinish'] = df['GarageFinish'].fillna(df['GarageFinish'].mode()[0])\n",
    "    df['GarageType'] = df['GarageType'].fillna(df['GarageType'].mode()[0])\n",
    "    df['Electrical'] = df['Electrical'].fillna(df['Electrical'].mode()[0])\n",
    "    df['BsmtFinType1'] = df['BsmtFinType1'].fillna(df['BsmtFinType1'].mode()[0])\n",
    "    df['BsmtFinType2'] = df['BsmtFinType2'].fillna(df['BsmtFinType2'].mode()[0])\n",
    "    df['BsmtExposure'] = df['BsmtExposure'].fillna(df['BsmtExposure'].mode()[0])\n",
    "    df['BsmtQual'] = df['BsmtQual'].fillna(df['BsmtQual'].mode()[0])\n",
    "    df['MasVnrArea'] = df['MasVnrArea'].fillna(df['MasVnrArea'].mean())\n",
    "    df['LotFrontage'] = df['LotFrontage'].fillna(df['LotFrontage'].mean())\n",
    "    df['BsmtFinSF1'] = df['BsmtFinSF1'].fillna(df['BsmtFinSF1'].mean())\n",
    "    df['BsmtFinSF2'] = df['BsmtFinSF2'].fillna(df['BsmtFinSF2'].mean())\n",
    "    df['BsmtUnfSF'] = df['BsmtUnfSF'].fillna(df['BsmtUnfSF'].mean())\n",
    "    df['TotalBsmtSF'] = df['TotalBsmtSF'].fillna(df['TotalBsmtSF'].mean())\n",
    "    df['GarageArea'] = df['GarageArea'].fillna(df['GarageArea'].mean())"
   ]
  },
  {
   "cell_type": "code",
   "execution_count": 6,
   "id": "bc1a2db3",
   "metadata": {},
   "outputs": [],
   "source": [
    "# Applies the function\n",
    "drop_null(train_df)\n",
    "drop_null(test_df)"
   ]
  },
  {
   "cell_type": "code",
   "execution_count": null,
   "id": "5e0b3b88",
   "metadata": {},
   "outputs": [],
   "source": [
    "#sns.heatmap(train_df.isnull(),cbar=False,yticklabels=False)"
   ]
  },
  {
   "cell_type": "code",
   "execution_count": null,
   "id": "3273cc06",
   "metadata": {},
   "outputs": [],
   "source": [
    "#sns.heatmap(test_df.isnull(),cbar=False,yticklabels=False)"
   ]
  },
  {
   "cell_type": "code",
   "execution_count": null,
   "id": "e30f2904",
   "metadata": {},
   "outputs": [],
   "source": []
  },
  {
   "cell_type": "code",
   "execution_count": 7,
   "id": "f9873435",
   "metadata": {},
   "outputs": [],
   "source": [
    "categorical = ['BsmtFullBath','BsmtHalfBath','GarageCars']\n",
    "obj = train_df['Electrical'].dtype # To get the object type"
   ]
  },
  {
   "cell_type": "code",
   "execution_count": 8,
   "id": "0b8664b0",
   "metadata": {},
   "outputs": [],
   "source": [
    "for column in train_df.columns:\n",
    "    if train_df[column].dtype == obj:\n",
    "        categorical.append(column) # appends the categorical columns to the list"
   ]
  },
  {
   "cell_type": "code",
   "execution_count": 9,
   "id": "66251fa8",
   "metadata": {},
   "outputs": [],
   "source": [
    "com_df = pd.concat([train_df,test_df],axis=0) # concatinate the training \n",
    "                                                    # and test data"
   ]
  },
  {
   "cell_type": "code",
   "execution_count": 30,
   "id": "4804da20",
   "metadata": {},
   "outputs": [
    {
     "data": {
      "text/plain": [
       "(2919, 75)"
      ]
     },
     "execution_count": 30,
     "metadata": {},
     "output_type": "execute_result"
    }
   ],
   "source": [
    "com_df.shape"
   ]
  },
  {
   "cell_type": "code",
   "execution_count": 10,
   "id": "3b2fed46",
   "metadata": {},
   "outputs": [],
   "source": [
    "# Get the dummy for the categorical columns\n",
    "for column in categorical:\n",
    "    df1 = pd.get_dummies(com_df[column],drop_first=True)\n",
    "    com_df = pd.concat([com_df, df1], axis=1)\n",
    "    com_df.drop([column], inplace=True, axis= True)"
   ]
  },
  {
   "cell_type": "code",
   "execution_count": null,
   "id": "314d04b6",
   "metadata": {},
   "outputs": [],
   "source": [
    "com_df.head()"
   ]
  },
  {
   "cell_type": "code",
   "execution_count": 11,
   "id": "3abeab02",
   "metadata": {},
   "outputs": [],
   "source": [
    "# Drops and duplicate column\n",
    "com_df = com_df.loc[:,~com_df.columns.duplicated()]"
   ]
  },
  {
   "cell_type": "code",
   "execution_count": null,
   "id": "363abe41",
   "metadata": {},
   "outputs": [],
   "source": []
  },
  {
   "cell_type": "code",
   "execution_count": 12,
   "id": "0f53c6d3",
   "metadata": {},
   "outputs": [],
   "source": [
    "# splits back the training and test data\n",
    "new_train = com_df[:1460]\n",
    "new_test = com_df[1460:]"
   ]
  },
  {
   "cell_type": "code",
   "execution_count": 13,
   "id": "be364b8d",
   "metadata": {},
   "outputs": [
    {
     "name": "stderr",
     "output_type": "stream",
     "text": [
      "C:\\Users\\User\\anaconda3\\lib\\site-packages\\pandas\\core\\frame.py:4906: SettingWithCopyWarning: \n",
      "A value is trying to be set on a copy of a slice from a DataFrame\n",
      "\n",
      "See the caveats in the documentation: https://pandas.pydata.org/pandas-docs/stable/user_guide/indexing.html#returning-a-view-versus-a-copy\n",
      "  return super().drop(\n"
     ]
    }
   ],
   "source": [
    "# Drop the saleprice column in the test data\n",
    "new_test.drop(['SalePrice'],axis=1,inplace=True)"
   ]
  },
  {
   "cell_type": "code",
   "execution_count": 14,
   "id": "8b92b5d9",
   "metadata": {},
   "outputs": [],
   "source": [
    "# Split the train data into the independent and dependent variable\n",
    "X_new_train = new_train.drop(['SalePrice'], axis=1)\n",
    "y_new_train = new_train['SalePrice']"
   ]
  },
  {
   "cell_type": "code",
   "execution_count": 36,
   "id": "17ce6fb3",
   "metadata": {},
   "outputs": [
    {
     "data": {
      "text/plain": [
       "LinearRegression()"
      ]
     },
     "execution_count": 36,
     "metadata": {},
     "output_type": "execute_result"
    }
   ],
   "source": [
    "# Trains a linear regression model on the training data\n",
    "from sklearn.linear_model import LinearRegression\n",
    "lin_reg = LinearRegression()\n",
    "lin_reg.fit(X_train, y_train)"
   ]
  },
  {
   "cell_type": "code",
   "execution_count": null,
   "id": "5d1c588b",
   "metadata": {},
   "outputs": [],
   "source": [
    "# new_test.describe()"
   ]
  },
  {
   "cell_type": "code",
   "execution_count": 38,
   "id": "17dcff10",
   "metadata": {},
   "outputs": [],
   "source": [
    "# Make prediction on the test data\n",
    "y_pred = lin_reg.predict(X_val)"
   ]
  },
  {
   "cell_type": "code",
   "execution_count": null,
   "id": "abe10c19",
   "metadata": {},
   "outputs": [],
   "source": [
    "# convert the array into a dataframe\n",
    "y_pred_df = pd.DataFrame(y_pred, columns=['SalePrice'])"
   ]
  },
  {
   "cell_type": "code",
   "execution_count": 61,
   "id": "d3bcb848",
   "metadata": {},
   "outputs": [],
   "source": [
    "# reads in the data from sample_submission.csv\n",
    "sub_df = pd.read_csv('sample_submission.csv')"
   ]
  },
  {
   "cell_type": "code",
   "execution_count": null,
   "id": "894dfa02",
   "metadata": {},
   "outputs": [],
   "source": [
    "# Concatinate the Id column from sub_df with my prediction\n",
    "my_submision = pd.concat([sub_df['Id'],y_pred_df], axis=1)"
   ]
  },
  {
   "cell_type": "code",
   "execution_count": null,
   "id": "b9fef4a0",
   "metadata": {},
   "outputs": [],
   "source": [
    "my_submision.head()"
   ]
  },
  {
   "cell_type": "code",
   "execution_count": null,
   "id": "35c4788a",
   "metadata": {},
   "outputs": [],
   "source": [
    "# Saves the model as a pickle file\n",
    "import pickle\n",
    "filename = 'housing_finalized_model.pkl'\n",
    "pickle.dump(lin_reg, open(filename,'wb'))"
   ]
  },
  {
   "cell_type": "code",
   "execution_count": null,
   "id": "51d1ce5c",
   "metadata": {},
   "outputs": [],
   "source": [
    "#my_submision.to_csv('sample_submission1.csv', index = False)"
   ]
  },
  {
   "cell_type": "code",
   "execution_count": 2,
   "id": "836b18f8",
   "metadata": {},
   "outputs": [],
   "source": [
    "from sklearn.model_selection import GridSearchCV"
   ]
  },
  {
   "cell_type": "code",
   "execution_count": 17,
   "id": "b7f899ab",
   "metadata": {},
   "outputs": [],
   "source": [
    "from sklearn.model_selection import train_test_split"
   ]
  },
  {
   "cell_type": "code",
   "execution_count": 18,
   "id": "5363309b",
   "metadata": {},
   "outputs": [],
   "source": [
    "X_train, X_val, y_train, y_val = train_test_split(X_new_train, y_new_train)"
   ]
  },
  {
   "cell_type": "code",
   "execution_count": 20,
   "id": "f0531591",
   "metadata": {},
   "outputs": [],
   "source": [
    "from sklearn.ensemble import RandomForestRegressor"
   ]
  },
  {
   "cell_type": "code",
   "execution_count": 63,
   "id": "6cbd3c5b",
   "metadata": {},
   "outputs": [
    {
     "data": {
      "text/plain": [
       "RandomForestRegressor()"
      ]
     },
     "execution_count": 63,
     "metadata": {},
     "output_type": "execute_result"
    }
   ],
   "source": [
    "rnf_reg = RandomForestRegressor()\n",
    "\n",
    "rnf_reg.fit(X_new_train, y_new_train)"
   ]
  },
  {
   "cell_type": "code",
   "execution_count": 64,
   "id": "fa312889",
   "metadata": {
    "scrolled": true
   },
   "outputs": [],
   "source": [
    "rnf_pred = rnf_reg.predict(new_test)"
   ]
  },
  {
   "cell_type": "code",
   "execution_count": 29,
   "id": "02d115ed",
   "metadata": {},
   "outputs": [],
   "source": [
    "from sklearn.metrics import mean_absolute_error, mean_squared_error"
   ]
  },
  {
   "cell_type": "code",
   "execution_count": 30,
   "id": "cde80cb8",
   "metadata": {},
   "outputs": [
    {
     "name": "stdout",
     "output_type": "stream",
     "text": [
      "18947.453168949774\n",
      "835402692.6293049\n"
     ]
    }
   ],
   "source": [
    "print(mean_absolute_error(rnf_pred, y_val))\n",
    "print(mean_squared_error(rnf_pred, y_val))"
   ]
  },
  {
   "cell_type": "code",
   "execution_count": 39,
   "id": "b0a8c94b",
   "metadata": {},
   "outputs": [
    {
     "name": "stdout",
     "output_type": "stream",
     "text": [
      "22145.77583333455\n",
      "3398490433.336433\n"
     ]
    }
   ],
   "source": [
    "print(mean_absolute_error(y_pred, y_val))\n",
    "print(mean_squared_error(y_pred, y_val))"
   ]
  },
  {
   "cell_type": "code",
   "execution_count": 59,
   "id": "0c431dbc",
   "metadata": {},
   "outputs": [
    {
     "data": {
      "text/plain": [
       "RandomForestRegressor()"
      ]
     },
     "execution_count": 59,
     "metadata": {},
     "output_type": "execute_result"
    }
   ],
   "source": [
    "param = { 'n_estimators' : [100, 200, 300, 400, 500]\n",
    "        }\n",
    "grid = GridSearchCV(rnf_reg, param, cv=5)\n",
    "grid.fit(X_new_train, y_new_train)\n",
    "\n",
    "grid.best_estimator_"
   ]
  },
  {
   "cell_type": "code",
   "execution_count": 65,
   "id": "f8c87ed3",
   "metadata": {},
   "outputs": [],
   "source": [
    "rnf_pred_df = pd.DataFrame(rnf_pred, columns=['SalePrice'])"
   ]
  },
  {
   "cell_type": "code",
   "execution_count": 66,
   "id": "067dc8a6",
   "metadata": {},
   "outputs": [],
   "source": [
    "my_submision2 = pd.concat([sub_df['Id'],rnf_pred_df], axis=1)"
   ]
  },
  {
   "cell_type": "code",
   "execution_count": 68,
   "id": "f4bbe998",
   "metadata": {},
   "outputs": [],
   "source": [
    "my_submision2.to_csv('sample_submission2.csv', index = False)"
   ]
  }
 ],
 "metadata": {
  "kernelspec": {
   "display_name": "Python 3 (ipykernel)",
   "language": "python",
   "name": "python3"
  },
  "language_info": {
   "codemirror_mode": {
    "name": "ipython",
    "version": 3
   },
   "file_extension": ".py",
   "mimetype": "text/x-python",
   "name": "python",
   "nbconvert_exporter": "python",
   "pygments_lexer": "ipython3",
   "version": "3.9.7"
  }
 },
 "nbformat": 4,
 "nbformat_minor": 5
}
